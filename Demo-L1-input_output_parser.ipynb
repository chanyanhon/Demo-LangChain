{
 "cells": [
  {
   "cell_type": "markdown",
   "id": "b34cede2-3954-497f-88d8-047f348464f3",
   "metadata": {},
   "source": [
    "# LangChain: Models, Prompts and Output Parsers\n",
    "## Objective\n",
    "- To demonstrate an intelligent and scalable approach using Langchain for basic chatbot purposes.\n",
    "- You will experience firsthand the superior capabilities of Langchain.\n",
    "\n",
    "## Outline\n",
    "\n",
    " * Direct API calls to OpenAI\n",
    " * API calls through LangChain:\n",
    "   * Prompts\n",
    "   * Models\n",
    "   * Output parsers\n",
    "   \n",
    "## Edge of LangChain over OpenAI\n",
    "- Input Variable defined in library instead of text concatenation for prompt\n",
    "- LangChain Output Parsers capability to output consistency JSON format and value"
   ]
  },
  {
   "cell_type": "code",
   "execution_count": 1,
   "id": "61c2f31a-6202-430f-a025-cbaa8605f915",
   "metadata": {
    "tags": []
   },
   "outputs": [],
   "source": [
    "!pip install -q python-dotenv\n",
    "!pip install -q openai==0.28.1\n",
    "!pip install -q --upgrade langchain"
   ]
  },
  {
   "cell_type": "markdown",
   "id": "f6b4ba5b-8f2f-43a1-96cf-1ae638dafdc0",
   "metadata": {
    "tags": []
   },
   "source": [
    "## Get your [OpenAI API Key](https://platform.openai.com/account/api-keys) & Model"
   ]
  },
  {
   "cell_type": "code",
   "execution_count": 2,
   "id": "6d4b1ba9-b954-4867-ac60-a4bb0c3e0099",
   "metadata": {
    "tags": []
   },
   "outputs": [],
   "source": [
    "import os\n",
    "import openai\n",
    "from dotenv import load_dotenv, find_dotenv\n",
    "\n",
    "# Get OpenAI API key\n",
    "try:\n",
    "    _ = load_dotenv(find_dotenv()) # read local .env file\n",
    "    openai.api_key = os.environ['OPENAI_API_KEY']\n",
    "except:\n",
    "    openai.api_key = 'your openai key'\n",
    "\n",
    "# Get OpenAI Model type\n",
    "llm_model = \"gpt-3.5-turbo\"\n",
    "\n",
    "def get_completion(prompt, model=llm_model):\n",
    "    messages = [{\"role\": \"user\", \"content\": prompt}]\n",
    "    response = openai.ChatCompletion.create(\n",
    "        model=model,\n",
    "        messages=messages,\n",
    "        temperature=0, \n",
    "    )\n",
    "    return response.choices[0].message[\"content\"]"
   ]
  },
  {
   "cell_type": "markdown",
   "id": "1f3775ff-5028-4dc0-bf0d-c10e144f58de",
   "metadata": {},
   "source": [
    "Note: LLM's do not always produce the same results. When executing the code in your notebook, you may get slightly different answers"
   ]
  },
  {
   "cell_type": "markdown",
   "id": "6a940e3e-cde7-4c2a-91b9-9bec9382e513",
   "metadata": {},
   "source": [
    "# Use case 1 : Prompt is with variables defined in LangChain library, instead of text concatenation\n",
    "\n",
    "Provided with \n",
    "- customer complaint email, and \n",
    "- the style to be rephrased, \n",
    "\n",
    "the LLM will rephrase the customer complaint email in given respectful style"
   ]
  },
  {
   "cell_type": "code",
   "execution_count": 3,
   "id": "aa57155c-d909-4a26-a4dc-9e166f946d5a",
   "metadata": {
    "tags": []
   },
   "outputs": [],
   "source": [
    "customer_email = \"\"\"\n",
    "Arrr, I be fuming that me blender lid \\\n",
    "flew off and splattered me kitchen walls \\\n",
    "with smoothie! And to make matters worse,\\\n",
    "the warranty don't cover the cost of \\\n",
    "cleaning up me kitchen. I need yer help \\\n",
    "right now, matey!\n",
    "\"\"\"\n",
    "\n",
    "style = \"\"\"American English \\\n",
    "in a calm and respectful tone\n",
    "\"\"\""
   ]
  },
  {
   "cell_type": "markdown",
   "id": "e3ad549b-f4a8-406d-ab71-ba37f1ab0fed",
   "metadata": {},
   "source": [
    "## Chat API : OpenAI\n",
    "\n",
    "Let's start with a direct API calls to OpenAI."
   ]
  },
  {
   "cell_type": "code",
   "execution_count": 5,
   "id": "312dd1d2-ca54-42d4-8865-ea76d4ec2f8d",
   "metadata": {
    "tags": []
   },
   "outputs": [
    {
     "name": "stdout",
     "output_type": "stream",
     "text": [
      "Translate the text that is delimited by triple backticks \n",
      "into a style that is American English in a calm and respectful tone\n",
      ".\n",
      "text: ```\n",
      "Arrr, I be fuming that me blender lid flew off and splattered me kitchen walls with smoothie! And to make matters worse,the warranty don't cover the cost of cleaning up me kitchen. I need yer help right now, matey!\n",
      "```\n",
      "\n"
     ]
    }
   ],
   "source": [
    "OpenAI_prompt = f\"\"\"Translate the text \\\n",
    "that is delimited by triple backticks \n",
    "into a style that is {style}.\n",
    "text: ```{customer_email}```\n",
    "\"\"\"\n",
    "\n",
    "print(OpenAI_prompt)"
   ]
  },
  {
   "cell_type": "code",
   "execution_count": 6,
   "id": "b7ee9d74-3b2e-4de7-a3fc-5c5a9600dd96",
   "metadata": {
    "tags": []
   },
   "outputs": [
    {
     "data": {
      "text/plain": [
       "\"I am really frustrated that my blender lid flew off and splattered my kitchen walls with smoothie! And to make matters worse, the warranty doesn't cover the cost of cleaning up my kitchen. I need your help right now, friend!\""
      ]
     },
     "execution_count": 6,
     "metadata": {},
     "output_type": "execute_result"
    }
   ],
   "source": [
    "response = get_completion(OpenAI_prompt)\n",
    "response"
   ]
  },
  {
   "cell_type": "markdown",
   "id": "7f0802d2-d54e-4b06-ae7b-9cb302d2ae8d",
   "metadata": {
    "tags": []
   },
   "source": [
    "## Chat API : LangChain\n",
    "\n",
    "Let's try how we can do the same using LangChain.\n",
    "\n",
    "__Edge of LangChain over OpenAI__:\n",
    "- Input Variable defined in library instead of text concatenation"
   ]
  },
  {
   "cell_type": "markdown",
   "id": "7dd999ab-3678-400d-b739-9261246639f3",
   "metadata": {
    "tags": []
   },
   "source": [
    "### Model"
   ]
  },
  {
   "cell_type": "code",
   "execution_count": 7,
   "id": "186406b6-ae93-42ad-a80b-433681ec7b46",
   "metadata": {
    "tags": []
   },
   "outputs": [
    {
     "name": "stderr",
     "output_type": "stream",
     "text": [
      "/home/ec2-user/anaconda3/envs/python3/lib/python3.10/site-packages/langchain_core/_api/deprecation.py:119: LangChainDeprecationWarning: The class `ChatOpenAI` was deprecated in LangChain 0.0.10 and will be removed in 0.2.0. An updated version of the class exists in the langchain-openai package and should be used instead. To use it run `pip install -U langchain-openai` and import as `from langchain_openai import ChatOpenAI`.\n",
      "  warn_deprecated(\n"
     ]
    }
   ],
   "source": [
    "from langchain.chat_models import ChatOpenAI\n",
    "\n",
    "# To control the randomness and creativity of the generated\n",
    "# text by an LLM, use temperature = 0.0\n",
    "chat = ChatOpenAI(temperature=0.0, model=llm_model)"
   ]
  },
  {
   "cell_type": "markdown",
   "id": "efb97403-c1c4-420a-a348-b19b15f69fbb",
   "metadata": {},
   "source": [
    "### Prompt template"
   ]
  },
  {
   "cell_type": "code",
   "execution_count": 8,
   "id": "ab19c672-ce46-4159-a3c8-87a6cfd7a9ec",
   "metadata": {
    "tags": []
   },
   "outputs": [
    {
     "name": "stderr",
     "output_type": "stream",
     "text": [
      "/home/ec2-user/anaconda3/envs/python3/lib/python3.10/site-packages/langchain_core/_api/deprecation.py:119: LangChainDeprecationWarning: The method `BaseChatModel.__call__` was deprecated in langchain-core 0.1.7 and will be removed in 0.2.0. Use invoke instead.\n",
      "  warn_deprecated(\n"
     ]
    },
    {
     "name": "stdout",
     "output_type": "stream",
     "text": [
      "I'm really frustrated that my blender lid flew off and splattered my kitchen walls with smoothie! And to make matters worse, the warranty doesn't cover the cost of cleaning up my kitchen. I could really use your help right now, friend.\n"
     ]
    }
   ],
   "source": [
    "LangChain_prompt = \"\"\"Translate the text \\\n",
    "that is delimited by triple backticks \\\n",
    "into a style that is {style}. \\\n",
    "text: ```{text}```\n",
    "\"\"\"\n",
    "\n",
    "from langchain.prompts import ChatPromptTemplate\n",
    "LangChain_template = ChatPromptTemplate.from_template(LangChain_prompt)\n",
    "customer_messages = LangChain_template.format_messages(\n",
    "                    style=style,\n",
    "                    text=customer_email)\n",
    "\n",
    "# Call the LLM to translate to the style of the customer message\n",
    "customer_response = chat(customer_messages)\n",
    "print(customer_response.content)"
   ]
  },
  {
   "cell_type": "code",
   "execution_count": 9,
   "id": "97639371-09ae-4927-a3f7-2ab04eb5ba62",
   "metadata": {
    "tags": []
   },
   "outputs": [
    {
     "data": {
      "text/plain": [
       "['style', 'text']"
      ]
     },
     "execution_count": 9,
     "metadata": {},
     "output_type": "execute_result"
    }
   ],
   "source": [
    "LangChain_template.messages[0].prompt.input_variables"
   ]
  },
  {
   "cell_type": "markdown",
   "id": "3935aae8-cd55-4eba-85bf-e6d42a5fe33d",
   "metadata": {
    "tags": []
   },
   "source": [
    "- The LangChain template can directly be used for other email template and style which is the variable of the library"
   ]
  },
  {
   "cell_type": "markdown",
   "id": "7685a8ed-f9fd-47ea-92f8-55aefa7a9617",
   "metadata": {},
   "source": [
    "# Use case 2 :  Output Parsers in JSON format with specific key-value pairs, instead of json.loads(json_text)\n",
    "\n",
    "Provided with \n",
    "- customer review, and \n",
    "- review methodology template\n",
    "\n",
    "the LLM will output with JSON format instaed of Str format"
   ]
  },
  {
   "cell_type": "code",
   "execution_count": 10,
   "id": "63e34234-44b6-40f0-a525-6bf5bc153059",
   "metadata": {
    "tags": []
   },
   "outputs": [],
   "source": [
    "customer_review = \"\"\"\\\n",
    "This leaf blower is pretty amazing.  It has four settings:\\\n",
    "candle blower, gentle breeze, windy city, and tornado. \\\n",
    "It arrived in two days, just in time for my wife's \\\n",
    "anniversary present. \\\n",
    "I think my wife liked it so much she was speechless. \\\n",
    "So far I've been the only one using it, and I've been \\\n",
    "using it every other morning to clear the leaves on our lawn. \\\n",
    "It's slightly more expensive than the other leaf blowers \\\n",
    "out there, but I think it's worth it for the extra features.\n",
    "\"\"\"\n",
    "\n",
    "# with input variable \"text\" at the end of the review_template\n",
    "review_template = \"\"\"\\\n",
    "For the following text, extract the following information:\n",
    "\n",
    "gift: Was the item purchased as a gift for someone else? \\\n",
    "Answer True if yes, False if not or unknown.\n",
    "\n",
    "delivery_days: How many days did it take for the product \\\n",
    "to arrive? If this information is not found, output -1.\n",
    "\n",
    "price_value: Extract any sentences about the value or price,\\\n",
    "and output them as a comma separated Python list.\n",
    "\n",
    "Format the output as JSON with the following keys:\n",
    "gift\n",
    "delivery_days\n",
    "price_value\n",
    "\n",
    "text: {text}\n",
    "\"\"\""
   ]
  },
  {
   "cell_type": "code",
   "execution_count": 11,
   "id": "3cb1884f-6862-482b-9e04-c4078ff368d5",
   "metadata": {
    "tags": []
   },
   "outputs": [
    {
     "name": "stdout",
     "output_type": "stream",
     "text": [
      "{\n",
      "  \"gift\": true,\n",
      "  \"delivery_days\": 2,\n",
      "  \"price_value\": [\"It's slightly more expensive than the other leaf blowers out there\"]\n",
      "}\n"
     ]
    }
   ],
   "source": [
    "from langchain.prompts import ChatPromptTemplate\n",
    "\n",
    "prompt_template = ChatPromptTemplate.from_template(review_template)\n",
    "messages = prompt_template.format_messages(text=customer_review)\n",
    "chat = ChatOpenAI(temperature=0.0, model=llm_model)\n",
    "response = chat(messages)\n",
    "print(response.content)"
   ]
  },
  {
   "cell_type": "code",
   "execution_count": 12,
   "id": "24485135-72ae-4965-a36b-bf5c2f51c3a9",
   "metadata": {
    "tags": []
   },
   "outputs": [
    {
     "data": {
      "text/plain": [
       "str"
      ]
     },
     "execution_count": 12,
     "metadata": {},
     "output_type": "execute_result"
    }
   ],
   "source": [
    "type(response.content)"
   ]
  },
  {
   "cell_type": "markdown",
   "id": "ab0672fb-0ce2-469e-925f-e4c5369229c7",
   "metadata": {},
   "source": [
    "The LLM output the JSON in string format. We can use json.loads(json_text) to ingest as JSON.\n",
    "\n",
    "However, the output format and value maybe deviated due to potential hallucination. \n",
    "e.g.\n",
    "- output \"true\" instead of \"True\" for JSON value of certain key\n",
    "- single quote, double quote problem\n",
    "\n",
    "Instead, we can use __langchain.output_parsers__ which we can define the __ResponseSchema__ of JSON. To ensure that the output are really in the format we defined"
   ]
  },
  {
   "cell_type": "markdown",
   "id": "3e486f57-0666-4a9f-ac06-d8aad0d53fe8",
   "metadata": {},
   "source": [
    "### Parse the LLM output string into a Python dictionary"
   ]
  },
  {
   "cell_type": "code",
   "execution_count": 13,
   "id": "d21f8363-b244-42ac-a2c3-b874bb7dafa6",
   "metadata": {
    "tags": []
   },
   "outputs": [],
   "source": [
    "from langchain.output_parsers import ResponseSchema\n",
    "from langchain.output_parsers import StructuredOutputParser"
   ]
  },
  {
   "cell_type": "code",
   "execution_count": 14,
   "id": "d788a58e-2140-4127-a0b3-68a6900cb1a4",
   "metadata": {
    "tags": []
   },
   "outputs": [
    {
     "name": "stdout",
     "output_type": "stream",
     "text": [
      "The output should be a markdown code snippet formatted in the following schema, including the leading and trailing \"```json\" and \"```\":\n",
      "\n",
      "```json\n",
      "{\n",
      "\t\"gift\": string  // Was the item purchased                             as a gift for someone else?                              Answer True if yes,                             False if not or unknown.\n",
      "\t\"delivery_days\": string  // How many days                                      did it take for the product                                      to arrive? If this                                       information is not found,                                      output -1.\n",
      "\t\"price_value\": string  // Extract any                                    sentences about the value or                                     price, and output them as a                                     comma separated Python list.\n",
      "}\n",
      "```\n"
     ]
    }
   ],
   "source": [
    "gift_schema = ResponseSchema(name=\"gift\",\n",
    "                             description=\"Was the item purchased\\\n",
    "                             as a gift for someone else? \\\n",
    "                             Answer True if yes,\\\n",
    "                             False if not or unknown.\")\n",
    "delivery_days_schema = ResponseSchema(name=\"delivery_days\",\n",
    "                                      description=\"How many days\\\n",
    "                                      did it take for the product\\\n",
    "                                      to arrive? If this \\\n",
    "                                      information is not found,\\\n",
    "                                      output -1.\")\n",
    "price_value_schema = ResponseSchema(name=\"price_value\",\n",
    "                                    description=\"Extract any\\\n",
    "                                    sentences about the value or \\\n",
    "                                    price, and output them as a \\\n",
    "                                    comma separated Python list.\")\n",
    "\n",
    "response_schemas = [gift_schema, \n",
    "                    delivery_days_schema,\n",
    "                    price_value_schema]\n",
    "\n",
    "output_parser = StructuredOutputParser.from_response_schemas(response_schemas)\n",
    "format_instructions = output_parser.get_format_instructions()\n",
    "print(format_instructions)"
   ]
  },
  {
   "cell_type": "code",
   "execution_count": 15,
   "id": "d4a323e6-b7c6-46fb-9c07-f90c64e3cbe2",
   "metadata": {
    "tags": []
   },
   "outputs": [],
   "source": [
    "review_template_2 = \"\"\"\\\n",
    "For the following text, extract the following information:\n",
    "\n",
    "gift: Was the item purchased as a gift for someone else? \\\n",
    "Answer True if yes, False if not or unknown.\n",
    "\n",
    "delivery_days: How many days did it take for the product\\\n",
    "to arrive? If this information is not found, output -1.\n",
    "\n",
    "price_value: Extract any sentences about the value or price,\\\n",
    "and output them as a comma separated Python list.\n",
    "\n",
    "text: {text}\n",
    "\n",
    "{format_instructions}\n",
    "\"\"\"\n",
    "\n",
    "prompt = ChatPromptTemplate.from_template(template=review_template_2)\n",
    "messages = prompt.format_messages(text=customer_review, \n",
    "                                format_instructions=format_instructions)"
   ]
  },
  {
   "cell_type": "code",
   "execution_count": 16,
   "id": "a53cf786-9df6-4457-b9be-61ddee835dff",
   "metadata": {
    "tags": []
   },
   "outputs": [
    {
     "name": "stdout",
     "output_type": "stream",
     "text": [
      "```json\n",
      "{\n",
      "\t\"gift\": true,\n",
      "\t\"delivery_days\": 2,\n",
      "\t\"price_value\": [\"It's slightly more expensive than the other leaf blowers out there, but I think it's worth it for the extra features.\"]\n",
      "}\n",
      "```\n"
     ]
    }
   ],
   "source": [
    "response = chat(messages)\n",
    "print(response.content)"
   ]
  },
  {
   "cell_type": "markdown",
   "id": "ff5f1f39-6799-4d46-8fa1-7937fd756ef0",
   "metadata": {},
   "source": [
    "Text in Prompt:\n",
    "```\n",
    "gift: Was the item purchased as a gift for someone else? \\\n",
    "Answer True if yes, False if not or unknown.\n",
    "```\n",
    "However, the output of key \"gift\" is \"true\" instead of \"True\", which may cause up-coming boolean identificaiton failure."
   ]
  },
  {
   "cell_type": "code",
   "execution_count": 17,
   "id": "52c8e6af-1b1c-4497-9883-7696871c1adf",
   "metadata": {
    "tags": []
   },
   "outputs": [],
   "source": [
    "output_dict = output_parser.parse(response.content)"
   ]
  },
  {
   "cell_type": "code",
   "execution_count": 18,
   "id": "10457f78-a058-4487-9ce0-0befc9a2d08a",
   "metadata": {
    "tags": []
   },
   "outputs": [
    {
     "data": {
      "text/plain": [
       "{'gift': True,\n",
       " 'delivery_days': 2,\n",
       " 'price_value': [\"It's slightly more expensive than the other leaf blowers out there, but I think it's worth it for the extra features.\"]}"
      ]
     },
     "execution_count": 18,
     "metadata": {},
     "output_type": "execute_result"
    }
   ],
   "source": [
    "output_dict"
   ]
  },
  {
   "cell_type": "code",
   "execution_count": 19,
   "id": "cd7d7129-e209-4546-a103-97b7c23464ea",
   "metadata": {
    "tags": []
   },
   "outputs": [
    {
     "data": {
      "text/plain": [
       "dict"
      ]
     },
     "execution_count": 19,
     "metadata": {},
     "output_type": "execute_result"
    }
   ],
   "source": [
    "type(output_dict)"
   ]
  },
  {
   "cell_type": "markdown",
   "id": "38d69448-ed4f-4d1d-8a31-f7fe490e1661",
   "metadata": {},
   "source": [
    "After utilizing the __output_parser__ , the output format is what we want finally"
   ]
  },
  {
   "cell_type": "markdown",
   "id": "94f32b4d-5c8d-4d4e-b649-a7caf82245ac",
   "metadata": {},
   "source": [
    "# Summary\n",
    "\n",
    "## 1. Code Scalability\n",
    "\n",
    "In the context of text manipulation and integration with libraries, LangChain adopt a different approach which are better in terms of scalability.\n",
    "\n",
    "### ChatGPT Approach\n",
    "ChatGPT primarily relies on f-strings for text manipulation, which can become cumbersome, especially in complex scenarios involving multiple variables. For example:\n",
    "\n",
    "```python\n",
    "prompt_GPT = f\"\"\"xxx {style}.\\\n",
    "text: '''{customer_email}'''\n",
    "\"\"\"\n",
    "```\n",
    "\n",
    "### LangChain Approach\n",
    "LangChain simplifies scalability by directly interpreting variables stored within its library, eliminating the need for f-strings. This approach enhances code readability and maintainability, particularly in large-scale projects.\n",
    "\n",
    "```python\n",
    "prompt_LC = \"\"\"xxx {style}.\\\n",
    "text: '''{customer_email}'''\n",
    "\"\"\"\n",
    "prompt_template = ChatPromptTemplate.from_template(prompt_LC)\n",
    "print(prompt_template.messages[0].prompt.input_variables)\n",
    "['style', 'customer_email']\n",
    "```\n",
    "\n",
    "## 2. Output Parsers Ability for JSON Format\n",
    "\n",
    "### Prompt directly output approach\n",
    "\n",
    "Despite defining the JSON key-value pairs with clear guidelines, the output string from LLM can still not be what you want. e.g. \"true\" in key \"gift\" in above example\n",
    "\n",
    "Also, __with 1 year experience of maintaining LLM output pipeline__, other challenges arise due to the nature of language model hallucination, especially on inconsistent JSON formatting, key misalignment, or mixed quotation styles, or even not outputing JSON.\n",
    "\n",
    "### LangChain Output Handling\n",
    "\n",
    "LangChain offers __response_schema__ and __output_parser__ which offer robust output handling capabilities, including defining schemas for JSON key-value pairs. By leveraging attention mechanisms in NLP LLM models, this setup ensures a more consistent output formatting, thus facilitating seamless integration within pipelines.\n",
    "\n",
    "\n",
    "Example:\n",
    "```python\n",
    "response_schemas = [gift_schema, \n",
    "                    delivery_days_schema,\n",
    "                    price_value_schema]\n",
    "\n",
    "output_parser = StructuredOutputParser.from_response_schemas(response_schemas)\n",
    "```\n",
    "\n",
    "## Conclusion\n",
    "In conclusion, while both ChatGPT and LangChain serve text manipulation purposes, LangChain's innovative approach to scalability and output consistency, particularly its direct interpretation of variables and structured output handling, positions it as a preferred choice for large-scale projects and maintaining pipeline integrity. By addressing challenges such as inconsistent JSON formatting and key misalignment, LangChain offers a robust solution for seamless integration within text processing pipelines."
   ]
  },
  {
   "cell_type": "code",
   "execution_count": null,
   "id": "606c7535-9158-4aa3-8ca8-67cdd0a0eae7",
   "metadata": {},
   "outputs": [],
   "source": []
  },
  {
   "cell_type": "code",
   "execution_count": null,
   "id": "3c89df2c-a286-4132-bf86-b2024ea6654e",
   "metadata": {},
   "outputs": [],
   "source": []
  }
 ],
 "metadata": {
  "kernelspec": {
   "display_name": "conda_python3",
   "language": "python",
   "name": "conda_python3"
  },
  "language_info": {
   "codemirror_mode": {
    "name": "ipython",
    "version": 3
   },
   "file_extension": ".py",
   "mimetype": "text/x-python",
   "name": "python",
   "nbconvert_exporter": "python",
   "pygments_lexer": "ipython3",
   "version": "3.10.14"
  }
 },
 "nbformat": 4,
 "nbformat_minor": 5
}
